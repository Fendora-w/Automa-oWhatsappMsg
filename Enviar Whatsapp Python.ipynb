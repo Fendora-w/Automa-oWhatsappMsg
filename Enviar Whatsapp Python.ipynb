{
 "cells": [
  {
   "cell_type": "code",
   "execution_count": 1,
   "id": "7b94bbd9",
   "metadata": {},
   "outputs": [],
   "source": [
    "# link da docuemntação do selenium: https://selenium-python.readthedocs.io/getting-started.html\n",
    "# Atualizado em 11/01/2023\n",
    "from selenium import webdriver\n",
    "from selenium.webdriver.common.keys import Keys\n",
    "from selenium.webdriver.common.by import By\n",
    "import time\n",
    "import urllib\n",
    "import os\n",
    "\n",
    "navegador = webdriver.Firefox()\n",
    "navegador.get(\"https://web.whatsapp.com\")"
   ]
  },
  {
   "cell_type": "code",
   "execution_count": 2,
   "id": "60d4c128",
   "metadata": {
    "scrolled": true
   },
   "outputs": [],
   "source": [
    "# Whatsapp já carregou\n"
   ]
  },
  {
   "cell_type": "code",
   "execution_count": 3,
   "id": "8ec34281",
   "metadata": {},
   "outputs": [
    {
     "data": {
      "text/html": [
       "<div>\n",
       "<style scoped>\n",
       "    .dataframe tbody tr th:only-of-type {\n",
       "        vertical-align: middle;\n",
       "    }\n",
       "\n",
       "    .dataframe tbody tr th {\n",
       "        vertical-align: top;\n",
       "    }\n",
       "\n",
       "    .dataframe thead th {\n",
       "        text-align: right;\n",
       "    }\n",
       "</style>\n",
       "<table border=\"1\" class=\"dataframe\">\n",
       "  <thead>\n",
       "    <tr style=\"text-align: right;\">\n",
       "      <th></th>\n",
       "      <th>Pessoa</th>\n",
       "      <th>Número</th>\n",
       "      <th>Mensagem</th>\n",
       "      <th>arquivos</th>\n",
       "    </tr>\n",
       "  </thead>\n",
       "  <tbody>\n",
       "    <tr>\n",
       "      <th>0</th>\n",
       "      <td>Matheus</td>\n",
       "      <td>5563999199405</td>\n",
       "      <td>E aí fulano, tudo bem?</td>\n",
       "      <td>promocaoarte.png</td>\n",
       "    </tr>\n",
       "  </tbody>\n",
       "</table>\n",
       "</div>"
      ],
      "text/plain": [
       "    Pessoa         Número                Mensagem          arquivos\n",
       "0  Matheus  5563999199405  E aí fulano, tudo bem?  promocaoarte.png"
      ]
     },
     "metadata": {},
     "output_type": "display_data"
    }
   ],
   "source": [
    "import pandas as pd \n",
    "\n",
    "tabela = pd.read_excel(\"Enviar.xlsx\")\n",
    "display(tabela)\n",
    "\n",
    "\n",
    "for linha in tabela.index:\n",
    "    pessoa = tabela.loc[linha, \"Pessoa\"]\n",
    "    numero = tabela.loc[linha, \"Número\"]\n",
    "    mensagem = tabela.loc[linha, \"Mensagem\"]\n",
    "    arquivo = tabela.loc[linha, \"arquivos\"]\n",
    "    \n",
    "    \n",
    "    texto = mensagem.replace(\"fulano\", pessoa)\n",
    "    texto = urllib.parse.quote(texto)\n",
    "#     print(texto)\n",
    "    time.sleep(10)\n",
    "    link = f\"https://web.whatsapp.com/send?phone={numero}&text={texto}\"\n",
    "    navegador.get(link)\n",
    "    \n",
    "    \n",
    "    while len(navegador.find_elements(By.ID, 'side')) < 1:\n",
    "        time.sleep(1)\n",
    "    time.sleep(2)\n",
    "    \n",
    "    navegador.find_element(By.XPATH, '/html/body/div[1]/div/div/div[4]/div/footer/div[1]/div/span[2]/div/div[2]/div[2]/button').click()\n",
    "    time.sleep(5)\n",
    "    \n",
    " \n",
    "    if arquivo == \"promocaoarte.png\":\n",
    "        caminho_completo = os.path.abspath(f\"arquivos/{arquivo}\")\n",
    "         \n",
    "        navegador.find_element(By.XPATH, '/html/body/div[1]/div/div/div[4]/div/footer/div[1]/div/span[2]/div/div[1]/div[2]/div/div/span').click()\n",
    "        \n",
    "        navegador.find_element(By.XPATH, '/html/body/div[1]/div/div/div[4]/div/footer/div[1]/div/span[2]/div/div[1]/div[2]/div/span/div/div/ul/li[4]/button/input').send_keys(caminho_completo)\n",
    "        time.sleep(5)\n",
    "        navegador.find_element(By.XPATH, '/html/body/div[1]/div/div/div[2]/div[2]/span/div/span/div/div/div[2]/div/div[2]/div[2]/div/div').click()\n",
    "        time.sleep(5)"
   ]
  },
  {
   "cell_type": "code",
   "execution_count": null,
   "id": "964aba5a",
   "metadata": {},
   "outputs": [],
   "source": []
  },
  {
   "cell_type": "code",
   "execution_count": null,
   "id": "1898a926",
   "metadata": {},
   "outputs": [],
   "source": []
  },
  {
   "cell_type": "code",
   "execution_count": null,
   "id": "c23331c6",
   "metadata": {},
   "outputs": [],
   "source": []
  },
  {
   "cell_type": "code",
   "execution_count": null,
   "id": "63bddd66",
   "metadata": {},
   "outputs": [],
   "source": []
  },
  {
   "cell_type": "code",
   "execution_count": null,
   "id": "264725a6",
   "metadata": {},
   "outputs": [],
   "source": []
  },
  {
   "cell_type": "code",
   "execution_count": null,
   "id": "3610084e",
   "metadata": {},
   "outputs": [],
   "source": []
  }
 ],
 "metadata": {
  "kernelspec": {
   "display_name": "Python 3 (ipykernel)",
   "language": "python",
   "name": "python3"
  },
  "language_info": {
   "codemirror_mode": {
    "name": "ipython",
    "version": 3
   },
   "file_extension": ".py",
   "mimetype": "text/x-python",
   "name": "python",
   "nbconvert_exporter": "python",
   "pygments_lexer": "ipython3",
   "version": "3.9.13"
  }
 },
 "nbformat": 4,
 "nbformat_minor": 5
}
